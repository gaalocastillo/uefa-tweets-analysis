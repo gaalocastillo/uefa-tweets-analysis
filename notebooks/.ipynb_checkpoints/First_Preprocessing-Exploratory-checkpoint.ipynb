{
 "cells": [
  {
   "cell_type": "code",
   "execution_count": 2,
   "metadata": {},
   "outputs": [],
   "source": [
    "import json\n",
    "import pandas as pd"
   ]
  },
  {
   "cell_type": "code",
   "execution_count": 11,
   "metadata": {},
   "outputs": [
    {
     "name": "stdout",
     "output_type": "stream",
     "text": [
      "{u'contributors': None, u'truncated': False, u'text': u'@D13Creative Not sure yet. Maybe.', u'is_quote_status': False, u'in_reply_to_status_id': {u'$numberLong': u'761548718592131072'}, u'id': {u'$numberLong': u'761566927160573952'}, u'favorite_count': 0, u'city': u'Flintshire', u'source': u'<a href=\"http://tapbots.com/tweetbot\" rel=\"nofollow\">Tweetbot for i\\u039fS</a>', u'retweeted': False, u'coordinates': {u'type': u'Point', u'coordinates': [-3.39003006, 53.31743112]}, u'entities': {u'symbols': [], u'user_mentions': [{u'indices': [0, 12], u'id': 61433405, u'id_str': u'61433405', u'name': u'Dylan Jones', u'screen_name': u'D13Creative'}], u'hashtags': [], u'urls': []}, u'in_reply_to_screen_name': u'D13Creative', u'id_str': u'761566927160573952', u'place': {u'country_code': u'GB', u'url': u'https://api.twitter.com/1.1/geo/id/7483e570c637b7fa.json', u'country': u'Reino Unido', u'place_type': u'city', u'bounding_box': {u'type': u'Polygon', u'coordinates': [[[-3.3937549, 53.3158862], [-3.3871021, 53.3158862], [-3.3871021, 53.3232853], [-3.3937549, 53.3232853]]]}, u'contained_within': [], u'full_name': u'Gwaenysgor, Wales', u'attributes': {}, u'id': u'7483e570c637b7fa', u'name': u'Gwaenysgor'}, u'retweet_count': 0, u'in_reply_to_user_id': 61433405, u'favorited': False, u'user': {u'follow_request_sent': False, u'has_extended_profile': True, u'profile_use_background_image': False, u'id': 34163, u'verified': False, u'profile_text_color': u'666666', u'profile_image_url_https': u'https://pbs.twimg.com/profile_images/756250178965889025/IloMzFkt_normal.jpg', u'profile_sidebar_fill_color': u'FFFFFF', u'is_translator': False, u'entities': {u'url': {u'urls': [{u'url': u'https://t.co/PEX3tx4jPT', u'indices': [0, 23], u'expanded_url': u'https://stuffandnonsense.co.uk/', u'display_url': u'stuffandnonsense.co.uk'}]}, u'description': {u'urls': []}}, u'followers_count': 35552, u'protected': False, u'location': u'St. Asaph, Wales 01745 851848', u'default_profile_image': False, u'id_str': u'34163', u'lang': u'en', u'utc_offset': 3600, u'statuses_count': 51747, u'description': u'Art director and website designer in the UK at @stuff_nonsense, host of the @unfinishedbz podcast and author of @gethardboiled.', u'friends_count': 70, u'profile_background_image_url_https': u'https://pbs.twimg.com/profile_background_images/112316132/malarkey_twitter_fff.png', u'profile_link_color': u'778199', u'profile_image_url': u'http://pbs.twimg.com/profile_images/756250178965889025/IloMzFkt_normal.jpg', u'notifications': False, u'geo_enabled': True, u'profile_background_color': u'FAFAF5', u'profile_banner_url': u'https://pbs.twimg.com/profile_banners/34163/1469876327', u'profile_background_image_url': u'http://pbs.twimg.com/profile_background_images/112316132/malarkey_twitter_fff.png', u'name': u'Andy Clarke', u'is_translation_enabled': False, u'profile_background_tile': False, u'favourites_count': 341, u'screen_name': u'Malarkey', u'url': u'https://t.co/PEX3tx4jPT', u'created_at': u'Fri Dec 01 16:02:57 +0000 2006', u'contributors_enabled': False, u'time_zone': u'London', u'profile_sidebar_border_color': u'CCCCCC', u'default_profile': False, u'following': False, u'listed_count': 2892}, u'geo': {u'type': u'Point', u'coordinates': [53.31743112, -3.39003006]}, u'in_reply_to_user_id_str': u'61433405', u'lang': u'en', u'country': u'United Kingdom', u'created_at': u'Fri Aug 05 14:17:59 +0000 2016', u'geo_information': [{u'long_name': u'Fron Deg', u'types': [u'premise'], u'short_name': u'Fron Deg'}, {u'long_name': u'Gwaenysgor', u'types': [u'locality', u'political'], u'short_name': u'Gwaenysgor'}, {u'long_name': u'Rhyl', u'types': [u'postal_town'], u'short_name': u'Rhyl'}, {u'long_name': u'Flintshire', u'types': [u'administrative_area_level_2', u'political'], u'short_name': u'Flintshire'}, {u'long_name': u'Wales', u'types': [u'administrative_area_level_1', u'political'], u'short_name': u'Wales'}, {u'long_name': u'United Kingdom', u'types': [u'country', u'political'], u'short_name': u'GB'}, {u'long_name': u'LL18 6ER', u'types': [u'postal_code'], u'short_name': u'LL18 6ER'}], u'in_reply_to_status_id_str': u'761548718592131072', u'created_at_date': {u'$date': u'2016-08-05T14:17:59.000Z'}, u'_id': {u'$oid': u'57a6d32d0a47a30ea2427686'}}\n"
     ]
    }
   ],
   "source": [
    "#jsonObj = json.loads('../euro_2016_france.json')\n",
    "f = open('../data/euro_2016_france.json', 'r')\n",
    "jsonStrng = ''\n",
    "jsonDict = {}\n",
    "for line in f:\n",
    "    lineJson = json.loads(line)\n",
    "    oid = lineJson['$oid']\n",
    "    print lineJson\n",
    "    break\n",
    "f.close()"
   ]
  }
 ],
 "metadata": {
  "kernelspec": {
   "display_name": "Python 2",
   "language": "python",
   "name": "python2"
  },
  "language_info": {
   "codemirror_mode": {
    "name": "ipython",
    "version": 2
   },
   "file_extension": ".py",
   "mimetype": "text/x-python",
   "name": "python",
   "nbconvert_exporter": "python",
   "pygments_lexer": "ipython2",
   "version": "2.7.12"
  }
 },
 "nbformat": 4,
 "nbformat_minor": 2
}
